{
  "cells": [
    {
      "cell_type": "code",
      "execution_count": 1,
      "metadata": {
        "colab": {
          "base_uri": "https://localhost:8080/"
        },
        "id": "1r6knIG8wNCn",
        "outputId": "6fabeea7-18e2-400d-d242-1b6b8c5ab2d5"
      },
      "outputs": [],
      "source": [
        "#importing everything required\n",
        "import random\n",
        "import pickle\n",
        "import gzip\n",
        "import numpy as np\n",
        "import pandas as pd\n",
        "import matplotlib.pyplot as plt\n",
        "%matplotlib inline\n",
        "plt.rcParams['figure.figsize'] = (5.0, 4.0) # set default size of plots\n",
        "plt.rcParams['image.interpolation'] = 'nearest'\n",
        "plt.rcParams['image.cmap'] = 'gray'\n",
        "\n",
        "%load_ext autoreload\n",
        "%autoreload 2\n",
        "\n",
        "np.random.seed(1)\n"
      ]
    },
    {
      "cell_type": "code",
      "execution_count": 2,
      "metadata": {},
      "outputs": [],
      "source": [
        "def load_data():\n",
        "    data = np.array(pd.read_csv('data.csv'))\n",
        "    np.random.shuffle(data)\n",
        "\n",
        "    train_data = data[0:60000].T\n",
        "    nx = train_data.shape[1]\n",
        "    train_X = train_data[1:nx]\n",
        "    train_X = train_X/255.0\n",
        "    train_Y = train_data[0]\n",
        "\n",
        "    test_data = data[60000:70000].T\n",
        "    nx = test_data.shape[1]\n",
        "    test_X = test_data[1:nx]\n",
        "    test_X = test_X/255.0\n",
        "    test_Y = test_data[0]\n",
        "\n",
        "    return train_X, train_Y, test_X, test_Y"
      ]
    },
    {
      "cell_type": "code",
      "execution_count": 3,
      "metadata": {},
      "outputs": [
        {
          "name": "stdout",
          "output_type": "stream",
          "text": [
            "train_X data shape:  (784, 60000)\n",
            "train_Y data shape:  (60000,)\n",
            "test_X data shape:  (784, 10000)\n",
            "test_Y data shape:  (10000,)\n"
          ]
        }
      ],
      "source": [
        "train_X, train_Y , test_X, test_Y = load_data()\n",
        "print(\"train_X data shape: \", train_X.shape)\n",
        "print(\"train_Y data shape: \", train_Y.shape)\n",
        "print(\"test_X data shape: \", test_X.shape)\n",
        "print(\"test_Y data shape: \", test_Y.shape)"
      ]
    },
    {
      "cell_type": "code",
      "execution_count": 4,
      "metadata": {
        "colab": {
          "base_uri": "https://localhost:8080/",
          "height": 281
        },
        "id": "VOMKwm-HdG4v",
        "outputId": "10d8d568-c285-4772-fb16-2519293388d2"
      },
      "outputs": [
        {
          "data": {
            "image/png": "[encoded data removed]",
            "text/plain": [
              "<Figure size 500x400 with 1 Axes>"
            ]
          },
          "metadata": {},
          "output_type": "display_data"
        }
      ],
      "source": [
        "#showing sample image along with their label\n",
        "\n",
        "index = 4528\n",
        "temp = np.reshape(train_X.T[index], (28,28))\n",
        "plt.imshow(temp, cmap='gray')\n",
        "plt.title(str(train_Y[index]))\n",
        "plt.show()"
      ]
    },
    {
      "cell_type": "code",
      "execution_count": 5,
      "metadata": {
        "id": "DWiojCz06abA"
      },
      "outputs": [],
      "source": [
        "def sigmoid(Z):\n",
        "    A = 1/(1+np.exp(-Z))\n",
        "    return A, Z\n",
        "#print(sigmoid(0.5))\n",
        "\n",
        "def sigmoid_prime(Z):\n",
        "    s = sigmoid(Z)\n",
        "    dZ = s*(1-s)\n",
        "    return dZ"
      ]
    },
    {
      "cell_type": "code",
      "execution_count": 6,
      "metadata": {
        "id": "RP_90CXA4H48"
      },
      "outputs": [],
      "source": [
        "def relu(Z):\n",
        "    A = np.maximum(0,Z)\n",
        "    assert(A.shape == Z.shape)\n",
        "    return A, Z\n",
        "\n",
        "def relu_prime(Z):\n",
        "    return Z>0"
      ]
    },
    {
      "cell_type": "code",
      "execution_count": 7,
      "metadata": {
        "id": "TG_qlUTT9nJc"
      },
      "outputs": [],
      "source": [
        "def softmax(Z):\n",
        "    A = np.exp(Z)/sum(np.exp(Z))\n",
        "    return A, Z"
      ]
    },
    {
      "cell_type": "code",
      "execution_count": 8,
      "metadata": {
        "colab": {
          "base_uri": "https://localhost:8080/"
        },
        "id": "VhhxdJTF-3Gg",
        "outputId": "c6acd60f-e3d5-4d36-97bf-6743648b0b11"
      },
      "outputs": [
        {
          "name": "stdout",
          "output_type": "stream",
          "text": [
            "Number of training examples: 60000\n",
            "Number of testing examples: 10000\n",
            "Each image is of size: 784 pixels\n"
          ]
        }
      ],
      "source": [
        "#size of train and test set and also each pixel value\n",
        "\n",
        "m_train = train_X.shape[1]\n",
        "num_px = train_X.shape[0]\n",
        "m_test = test_X.shape[1]\n",
        "\n",
        "print (\"Number of training examples: \" + str(m_train))\n",
        "print (\"Number of testing examples: \" + str(m_test))\n",
        "print (\"Each image is of size:\", num_px, \"pixels\")\n"
      ]
    },
    {
      "cell_type": "code",
      "execution_count": 9,
      "metadata": {
        "id": "GI6LfNHAApdd"
      },
      "outputs": [],
      "source": [
        "def initialize_parameters_deep(layer_dims):\n",
        "    np.random.seed(3)\n",
        "    parameters = {}\n",
        "    L = len(layer_dims) # number of layers in the network\n",
        "\n",
        "    for l in range(1, L):\n",
        "        parameters['W' + str(l)] = np.random.randn(layer_dims[l], layer_dims[l-1])*0.01\n",
        "        parameters['b' + str(l)] = np.zeros((layer_dims[l], 1))\n",
        "        \n",
        "        assert(parameters['W' + str(l)].shape == (layer_dims[l], layer_dims[l - 1]))\n",
        "        assert(parameters['b' + str(l)].shape == (layer_dims[l], 1))\n",
        "\n",
        "        \n",
        "    return parameters\n",
        "\n",
        "#print(initialize_parameters_deep([2, 4, 5, 4, 2]))"
      ]
    },
    {
      "cell_type": "code",
      "execution_count": 10,
      "metadata": {
        "id": "xdNtonxkTLke"
      },
      "outputs": [],
      "source": [
        "def normalize(Y):\n",
        "    normalized_Y = np.zeros((Y.size, 10))\n",
        "    normalized_Y[np.arange(Y.size), Y] = 1\n",
        "    normalized_Y = normalized_Y.T\n",
        "    return normalized_Y"
      ]
    },
    {
      "cell_type": "code",
      "execution_count": 11,
      "metadata": {
        "id": "6wutXkkhApkw"
      },
      "outputs": [],
      "source": [
        "def linear_forward(A, W, b):\n",
        "    Z = np.dot(W, A) + b\n",
        "    cache = (A, W, b)\n",
        "    return Z, cache"
      ]
    },
    {
      "cell_type": "code",
      "execution_count": 12,
      "metadata": {
        "id": "yMa9FctlAptm"
      },
      "outputs": [],
      "source": [
        "def linear_activation_forward(A_prev, W, b, activation):\n",
        "    Z, linear_cache = linear_forward(A_prev, W, b)\n",
        "    if activation == \"sigmoid\":\n",
        "        A, activation_cache = sigmoid(Z)\n",
        "    elif activation == \"relu\":\n",
        "        A, activation_cache = relu(Z)\n",
        "    elif activation == \"softmax\":\n",
        "        A, activation_cache = softmax(Z)\n",
        "\n",
        "    cache = (linear_cache, activation_cache)\n",
        "    return A, cache"
      ]
    },
    {
      "cell_type": "code",
      "execution_count": 13,
      "metadata": {
        "id": "uatDHqp_Ap09"
      },
      "outputs": [],
      "source": [
        "def L_model_forward(X, parameters):\n",
        "    caches = []\n",
        "    A = X\n",
        "    L = len(parameters) // 2  # number of layers in the neural network\n",
        "    for l in range(1, L):\n",
        "        A_prev = A \n",
        "        A, cache = linear_activation_forward(A_prev, parameters['W' + str(l)], parameters['b' + str(l)] , \"relu\")\n",
        "        caches.append(cache)\n",
        "\n",
        "    AL, cache = linear_activation_forward(A, parameters['W' + str(L)], parameters['b' + str(L)] , \"softmax\")\n",
        "    caches.append(cache)    \n",
        "          \n",
        "    return AL, caches\n"
      ]
    },
    {
      "cell_type": "code",
      "execution_count": 14,
      "metadata": {
        "id": "bGY-CCvVCIen"
      },
      "outputs": [],
      "source": [
        "def linear_backward(dZ, cache):\n",
        "    A_prev, W, b = cache\n",
        "    m = A_prev.shape[1]\n",
        "\n",
        "    dW = np.dot(dZ, A_prev.T)/m\n",
        "    db = np.sum(dZ, axis=1, keepdims=True)/m\n",
        "    dA_prev = np.dot(W.T, dZ)\n",
        "\n",
        "    return dA_prev, dW, db"
      ]
    },
    {
      "cell_type": "code",
      "execution_count": 15,
      "metadata": {
        "id": "Ij4nnr1sCMiQ"
      },
      "outputs": [],
      "source": [
        "def linear_activation_backward(dA, cache, activation):\n",
        "    linear_cache, activation_cache = cache\n",
        "    if activation == \"relu\":\n",
        "        dZ = dA*relu_prime(activation_cache)\n",
        "    elif activation == \"sigmoid\":\n",
        "        dZ = dA*sigmoid_prime(activation_cache)\n",
        "    elif activation == \"sum_sqr\":\n",
        "        dZ = dA\n",
        "    \n",
        "    dA_prev, dW, db =  linear_backward(dZ, linear_cache)\n",
        "    \n",
        "    return dA_prev, dW, db"
      ]
    },
    {
      "cell_type": "code",
      "execution_count": 16,
      "metadata": {
        "id": "ainDKChAClwR"
      },
      "outputs": [],
      "source": [
        "def L_model_backward(AL, Y, caches):\n",
        "    grads = {}\n",
        "    L = len(caches) # the number of layers\n",
        "    m = AL.shape[1]\n",
        "    Y = normalize(Y)\n",
        "    dAL = AL-Y\n",
        "    current_cache = caches[L-1]\n",
        "    grads[\"dA\"+str(L-1)], grads[\"dW\"+str(L)], grads[\"db\"+str(L)] = linear_activation_backward(dAL, current_cache, \"sum_sqr\")\n",
        "    for l in reversed(range(L-1)):\n",
        "        current_cache = caches[l]\n",
        "        grads[\"dA\"+str(l)], grads[\"dW\"+str(l+1)], grads[\"db\"+str(l+1)] = linear_activation_backward(grads[\"dA\"+str(l+1)], current_cache, \"relu\")\n",
        "\n",
        "    return grads"
      ]
    },
    {
      "cell_type": "code",
      "execution_count": 17,
      "metadata": {
        "id": "fhB5tjuFC02Y"
      },
      "outputs": [],
      "source": [
        "def update_parameters(params, grads, learning_rate):\n",
        "    parameters = params.copy()\n",
        "    L = len(parameters) // 2 # number of layers in the neural network\n",
        "\n",
        "    for l in range(L):\n",
        "        parameters[\"W\" + str(l+1)] = parameters[\"W\" + str(l+1)] - learning_rate*grads[\"dW\"+str(l+1)]\n",
        "        parameters[\"b\" + str(l+1)] = parameters[\"b\" + str(l+1)] - learning_rate*grads[\"db\"+str(l+1)]\n",
        "\n",
        "    return parameters"
      ]
    },
    {
      "cell_type": "code",
      "execution_count": 18,
      "metadata": {
        "id": "EUJMnYTXIgwk"
      },
      "outputs": [],
      "source": [
        "def compute_cost(A, Y):\n",
        "    return 0.5*(np.linalg.norm(Y-A)**2)/Y.size\n",
        "\n",
        "def compute_accuracy(A, Y):\n",
        "    return (np.sum(A==Y)*100)/Y.size\n"
      ]
    },
    {
      "cell_type": "code",
      "execution_count": 19,
      "metadata": {
        "id": "mW0hxgFeRknY"
      },
      "outputs": [],
      "source": [
        "def predict(A):\n",
        "    return np.argmax(A,0)"
      ]
    },
    {
      "cell_type": "code",
      "execution_count": 22,
      "metadata": {
        "id": "PGUeoquhDgcY"
      },
      "outputs": [],
      "source": [
        "def L_layer_model(X, Y, layers_dims, learning_rate = 0.1, num_iterations = 3000, print_cost=False):\n",
        "    np.random.seed(1)\n",
        "    parameters = initialize_parameters_deep(layers_dims)\n",
        "    for i in range(num_iterations):\n",
        "        AL, caches = L_model_forward(X, parameters)\n",
        "        grads = L_model_backward(AL, Y, caches)\n",
        "        parameters = update_parameters(parameters, grads, learning_rate)\n",
        "        \n",
        "        if print_cost and i % 10 == 0 or i == num_iterations - 1:\n",
        "            predictions = predict(AL)\n",
        "            cost = compute_cost(predictions,Y)\n",
        "            print(\"Accuracy after iteration\", i,\": \", compute_accuracy(predictions,Y), \"%\")\n",
        "            print(\"Cost after iteration\", i,\": \", cost)\n",
        "    \n",
        "    return parameters"
      ]
    },
    {
      "cell_type": "code",
      "execution_count": 23,
      "metadata": {
        "colab": {
          "base_uri": "https://localhost:8080/"
        },
        "id": "dKRNpiolEBNP",
        "outputId": "fd9c9467-5236-40ee-8c5b-23c94a3e22dc"
      },
      "outputs": [
        {
          "name": "stdout",
          "output_type": "stream",
          "text": [
            "Accuracy after iteration 0 :  7.906666666666666 %\n",
            "Cost after iteration 0 :  10.6213\n",
            "Accuracy after iteration 10 :  15.451666666666666 %\n",
            "Cost after iteration 10 :  9.974808333333335\n",
            "Accuracy after iteration 20 :  20.48 %\n",
            "Cost after iteration 20 :  10.111108333333332\n",
            "Accuracy after iteration 30 :  28.273333333333333 %\n",
            "Cost after iteration 30 :  8.997283333333334\n",
            "Accuracy after iteration 40 :  32.49333333333333 %\n",
            "Cost after iteration 40 :  8.242583333333334\n",
            "Accuracy after iteration 50 :  34.79666666666667 %\n",
            "Cost after iteration 50 :  8.1083\n",
            "Accuracy after iteration 60 :  38.836666666666666 %\n",
            "Cost after iteration 60 :  7.199066666666667\n",
            "Accuracy after iteration 70 :  46.233333333333334 %\n",
            "Cost after iteration 70 :  5.667233333333333\n",
            "Accuracy after iteration 80 :  55.39 %\n",
            "Cost after iteration 80 :  4.316158333333333\n",
            "Accuracy after iteration 90 :  61.32 %\n",
            "Cost after iteration 90 :  3.482966666666667\n",
            "Accuracy after iteration 100 :  65.22166666666666 %\n",
            "Cost after iteration 100 :  2.947033333333333\n",
            "Accuracy after iteration 110 :  68.64666666666666 %\n",
            "Cost after iteration 110 :  2.5876500000000004\n",
            "Accuracy after iteration 120 :  71.57166666666667 %\n",
            "Cost after iteration 120 :  2.32505\n",
            "Accuracy after iteration 130 :  73.95666666666666 %\n",
            "Cost after iteration 130 :  2.119283333333333\n",
            "Accuracy after iteration 140 :  75.85 %\n",
            "Cost after iteration 140 :  1.9656500000000003\n",
            "Accuracy after iteration 150 :  77.54666666666667 %\n",
            "Cost after iteration 150 :  1.8313166666666667\n",
            "Accuracy after iteration 160 :  79.02166666666666 %\n",
            "Cost after iteration 160 :  1.7174916666666669\n",
            "Accuracy after iteration 170 :  80.22333333333333 %\n",
            "Cost after iteration 170 :  1.6277500000000003\n",
            "Accuracy after iteration 180 :  81.23666666666666 %\n",
            "Cost after iteration 180 :  1.5491916666666667\n",
            "Accuracy after iteration 190 :  82.13166666666666 %\n",
            "Cost after iteration 190 :  1.4729166666666667\n",
            "Accuracy after iteration 200 :  82.87333333333333 %\n",
            "Cost after iteration 200 :  1.409875\n",
            "Accuracy after iteration 210 :  83.57166666666667 %\n",
            "Cost after iteration 210 :  1.3543083333333337\n",
            "Accuracy after iteration 220 :  84.15666666666667 %\n",
            "Cost after iteration 220 :  1.302575\n",
            "Accuracy after iteration 230 :  84.72 %\n",
            "Cost after iteration 230 :  1.2546333333333335\n",
            "Accuracy after iteration 240 :  85.30833333333334 %\n",
            "Cost after iteration 240 :  1.2055333333333333\n",
            "Accuracy after iteration 250 :  85.785 %\n",
            "Cost after iteration 250 :  1.1642416666666666\n",
            "Accuracy after iteration 260 :  86.17833333333333 %\n",
            "Cost after iteration 260 :  1.14\n",
            "Accuracy after iteration 270 :  86.485 %\n",
            "Cost after iteration 270 :  1.1137500000000002\n",
            "Accuracy after iteration 280 :  86.73333333333333 %\n",
            "Cost after iteration 280 :  1.0942833333333333\n",
            "Accuracy after iteration 290 :  87.01 %\n",
            "Cost after iteration 290 :  1.0656249999999998\n",
            "Accuracy after iteration 300 :  87.28833333333333 %\n",
            "Cost after iteration 300 :  1.0437\n",
            "Accuracy after iteration 310 :  87.55333333333333 %\n",
            "Cost after iteration 310 :  1.0212\n",
            "Accuracy after iteration 320 :  87.73833333333333 %\n",
            "Cost after iteration 320 :  1.0091499999999998\n",
            "Accuracy after iteration 330 :  87.92666666666666 %\n",
            "Cost after iteration 330 :  0.9957833333333334\n",
            "Accuracy after iteration 340 :  88.11166666666666 %\n",
            "Cost after iteration 340 :  0.9830583333333334\n",
            "Accuracy after iteration 350 :  88.29666666666667 %\n",
            "Cost after iteration 350 :  0.9704000000000002\n",
            "Accuracy after iteration 360 :  88.45166666666667 %\n",
            "Cost after iteration 360 :  0.9595166666666668\n",
            "Accuracy after iteration 370 :  88.58833333333334 %\n",
            "Cost after iteration 370 :  0.9474999999999999\n",
            "Accuracy after iteration 380 :  88.71166666666667 %\n",
            "Cost after iteration 380 :  0.9389083333333333\n",
            "Accuracy after iteration 390 :  88.85 %\n",
            "Cost after iteration 390 :  0.9302416666666666\n",
            "Accuracy after iteration 400 :  88.97 %\n",
            "Cost after iteration 400 :  0.9216166666666665\n",
            "Accuracy after iteration 410 :  89.06833333333333 %\n",
            "Cost after iteration 410 :  0.9157500000000002\n",
            "Accuracy after iteration 420 :  89.185 %\n",
            "Cost after iteration 420 :  0.9064833333333333\n",
            "Accuracy after iteration 430 :  89.31833333333333 %\n",
            "Cost after iteration 430 :  0.8968833333333333\n",
            "Accuracy after iteration 440 :  89.41833333333334 %\n",
            "Cost after iteration 440 :  0.8905666666666668\n",
            "Accuracy after iteration 450 :  89.50666666666666 %\n",
            "Cost after iteration 450 :  0.884875\n",
            "Accuracy after iteration 460 :  89.59166666666667 %\n",
            "Cost after iteration 460 :  0.8755916666666665\n",
            "Accuracy after iteration 470 :  89.68333333333334 %\n",
            "Cost after iteration 470 :  0.869525\n",
            "Accuracy after iteration 480 :  89.75666666666666 %\n",
            "Cost after iteration 480 :  0.8666833333333335\n",
            "Accuracy after iteration 490 :  89.80333333333333 %\n",
            "Cost after iteration 490 :  0.8634916666666665\n",
            "Accuracy after iteration 500 :  89.89166666666667 %\n",
            "Cost after iteration 500 :  0.8600916666666667\n",
            "Accuracy after iteration 510 :  89.935 %\n",
            "Cost after iteration 510 :  0.8571833333333334\n",
            "Accuracy after iteration 520 :  89.97666666666667 %\n",
            "Cost after iteration 520 :  0.8536416666666665\n",
            "Accuracy after iteration 530 :  90.02833333333334 %\n",
            "Cost after iteration 530 :  0.84935\n",
            "Accuracy after iteration 540 :  90.06833333333333 %\n",
            "Cost after iteration 540 :  0.845275\n",
            "Accuracy after iteration 550 :  90.11 %\n",
            "Cost after iteration 550 :  0.8430583333333334\n",
            "Accuracy after iteration 560 :  90.155 %\n",
            "Cost after iteration 560 :  0.8387416666666667\n",
            "Accuracy after iteration 570 :  90.19166666666666 %\n",
            "Cost after iteration 570 :  0.835425\n",
            "Accuracy after iteration 580 :  90.23 %\n",
            "Cost after iteration 580 :  0.83405\n",
            "Accuracy after iteration 590 :  90.28333333333333 %\n",
            "Cost after iteration 590 :  0.8300666666666665\n",
            "Accuracy after iteration 600 :  90.34333333333333 %\n",
            "Cost after iteration 600 :  0.8248083333333333\n",
            "Accuracy after iteration 610 :  90.37666666666667 %\n",
            "Cost after iteration 610 :  0.8236833333333333\n",
            "Accuracy after iteration 620 :  90.42333333333333 %\n",
            "Cost after iteration 620 :  0.8197916666666667\n",
            "Accuracy after iteration 630 :  90.46166666666667 %\n",
            "Cost after iteration 630 :  0.8177916666666666\n",
            "Accuracy after iteration 640 :  90.51166666666667 %\n",
            "Cost after iteration 640 :  0.8139500000000002\n",
            "Accuracy after iteration 650 :  90.54333333333334 %\n",
            "Cost after iteration 650 :  0.8126083333333333\n",
            "Accuracy after iteration 660 :  90.59333333333333 %\n",
            "Cost after iteration 660 :  0.8093000000000001\n",
            "Accuracy after iteration 670 :  90.645 %\n",
            "Cost after iteration 670 :  0.8056249999999999\n",
            "Accuracy after iteration 680 :  90.67666666666666 %\n",
            "Cost after iteration 680 :  0.8017249999999999\n",
            "Accuracy after iteration 690 :  90.71 %\n",
            "Cost after iteration 690 :  0.7998750000000001\n",
            "Accuracy after iteration 700 :  90.745 %\n",
            "Cost after iteration 700 :  0.7979083333333334\n",
            "Accuracy after iteration 710 :  90.79333333333334 %\n",
            "Cost after iteration 710 :  0.793075\n",
            "Accuracy after iteration 720 :  90.83333333333333 %\n",
            "Cost after iteration 720 :  0.790125\n",
            "Accuracy after iteration 730 :  90.87166666666667 %\n",
            "Cost after iteration 730 :  0.78895\n",
            "Accuracy after iteration 740 :  90.88833333333334 %\n",
            "Cost after iteration 740 :  0.7861\n",
            "Accuracy after iteration 750 :  90.925 %\n",
            "Cost after iteration 750 :  0.7824166666666666\n",
            "Accuracy after iteration 760 :  90.95833333333333 %\n",
            "Cost after iteration 760 :  0.7808250000000001\n",
            "Accuracy after iteration 770 :  90.99 %\n",
            "Cost after iteration 770 :  0.7764166666666668\n",
            "Accuracy after iteration 780 :  91.02166666666666 %\n",
            "Cost after iteration 780 :  0.7747\n",
            "Accuracy after iteration 790 :  91.04333333333334 %\n",
            "Cost after iteration 790 :  0.7723499999999999\n",
            "Accuracy after iteration 800 :  91.09833333333333 %\n",
            "Cost after iteration 800 :  0.7674666666666667\n",
            "Accuracy after iteration 810 :  91.12833333333333 %\n",
            "Cost after iteration 810 :  0.762\n",
            "Accuracy after iteration 820 :  91.15833333333333 %\n",
            "Cost after iteration 820 :  0.7605416666666668\n",
            "Accuracy after iteration 830 :  91.17833333333333 %\n",
            "Cost after iteration 830 :  0.7601249999999998\n",
            "Accuracy after iteration 840 :  91.225 %\n",
            "Cost after iteration 840 :  0.7564333333333334\n",
            "Accuracy after iteration 850 :  91.26 %\n",
            "Cost after iteration 850 :  0.753\n",
            "Accuracy after iteration 860 :  91.29166666666667 %\n",
            "Cost after iteration 860 :  0.7496916666666665\n",
            "Accuracy after iteration 870 :  91.33166666666666 %\n",
            "Cost after iteration 870 :  0.7464333333333333\n",
            "Accuracy after iteration 880 :  91.36166666666666 %\n",
            "Cost after iteration 880 :  0.7448000000000001\n",
            "Accuracy after iteration 890 :  91.405 %\n",
            "Cost after iteration 890 :  0.7400666666666665\n",
            "Accuracy after iteration 900 :  91.41166666666666 %\n",
            "Cost after iteration 900 :  0.7395500000000002\n",
            "Accuracy after iteration 910 :  91.43 %\n",
            "Cost after iteration 910 :  0.7379333333333333\n",
            "Accuracy after iteration 920 :  91.45 %\n",
            "Cost after iteration 920 :  0.7365833333333333\n",
            "Accuracy after iteration 930 :  91.47166666666666 %\n",
            "Cost after iteration 930 :  0.7358500000000001\n",
            "Accuracy after iteration 940 :  91.50166666666667 %\n",
            "Cost after iteration 940 :  0.7342166666666666\n",
            "Accuracy after iteration 950 :  91.52666666666667 %\n",
            "Cost after iteration 950 :  0.7320583333333335\n",
            "Accuracy after iteration 960 :  91.56333333333333 %\n",
            "Cost after iteration 960 :  0.7287666666666667\n",
            "Accuracy after iteration 970 :  91.58666666666667 %\n",
            "Cost after iteration 970 :  0.7260333333333332\n",
            "Accuracy after iteration 980 :  91.605 %\n",
            "Cost after iteration 980 :  0.7249666666666665\n",
            "Accuracy after iteration 990 :  91.625 %\n",
            "Cost after iteration 990 :  0.7243166666666668\n",
            "Accuracy after iteration 999 :  91.665 %\n",
            "Cost after iteration 999 :  0.7213333333333334\n"
          ]
        }
      ],
      "source": [
        "layers_dims = [28*28, 16, 10] \n",
        "parameters = L_layer_model(train_X, train_Y, layers_dims, num_iterations = 1000, print_cost = True)"
      ]
    },
    {
      "cell_type": "code",
      "execution_count": 24,
      "metadata": {
        "id": "9bKCg52NFBp8"
      },
      "outputs": [
        {
          "name": "stdout",
          "output_type": "stream",
          "text": [
            "Accuracy over train set:  91.67166666666667\n",
            "Accuracy over train set:  92.02\n"
          ]
        }
      ],
      "source": [
        "def test(X, parameters):\n",
        "    A,_ = L_model_forward(X, parameters)\n",
        "    predictions = predict(A)\n",
        "    return predictions\n",
        "\n",
        "Y_hat = test(train_X, parameters)\n",
        "accuracy = compute_accuracy(Y_hat, train_Y)\n",
        "print(\"Accuracy over train set: \", accuracy)\n",
        "\n",
        "Y_hat = test(test_X, parameters)\n",
        "accuracy = compute_accuracy(Y_hat, test_Y)\n",
        "print(\"Accuracy over train set: \", accuracy)\n"
      ]
    },
    {
      "cell_type": "code",
      "execution_count": 25,
      "metadata": {
        "id": "k0D9WcIL93UL"
      },
      "outputs": [],
      "source": [
        "def visual(index):\n",
        "    tmp = train_X[:, index]\n",
        "    image = tmp.reshape((28, 28)) * 255\n",
        "    plt.imshow(image)\n",
        "    plt.title(\"Index: \"+str(index)+\"\\n\"+str(train_Y[index]))\n",
        "    plt.show()\n",
        "\n",
        "    prediction = test(train_X[:, index, None], parameters)\n",
        "    print(\"Result: \", prediction)\n"
      ]
    },
    {
      "cell_type": "code",
      "execution_count": 27,
      "metadata": {
        "id": "GMyNIYniFHJj"
      },
      "outputs": [
        {
          "data": {
            "image/png": "[encoded data removed]",
            "text/plain": [
              "<Figure size 500x400 with 1 Axes>"
            ]
          },
          "metadata": {},
          "output_type": "display_data"
        },
        {
          "name": "stdout",
          "output_type": "stream",
          "text": [
            "Result:  [4]\n"
          ]
        }
      ],
      "source": [
        "visual(index = random.randint(0,9999))"
      ]
    }
  ],
  "metadata": {
    "colab": {
      "provenance": []
    },
    "kernelspec": {
      "display_name": "Python 3",
      "name": "python3"
    },
    "language_info": {
      "codemirror_mode": {
        "name": "ipython",
        "version": 3
      },
      "file_extension": ".py",
      "mimetype": "text/x-python",
      "name": "python",
      "nbconvert_exporter": "python",
      "pygments_lexer": "ipython3",
      "version": "3.10.7"
    }
  },
  "nbformat": 4,
  "nbformat_minor": 0
}
